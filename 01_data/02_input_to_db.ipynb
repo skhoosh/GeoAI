{
 "cells": [
  {
   "cell_type": "markdown",
   "metadata": {},
   "source": [
    "# Input annotations into a PostgreSQL database \n",
    "\n",
    "Requirements: \n",
    "- download and install [PostgreSQL](https://www.postgresql.org/download/windows/)\n",
    "- download and install [pgAdmin 4](https://www.pgadmin.org/download/)\n",
    "\n",
    "### 1) Create database \n",
    "In pgAdmin, create a database to store the annotations \n",
    "\n",
    "\n",
    "### 2) Create a .env file \n",
    "For the dtpdb library to be able to access the database we just created, create a .env file that contains the access information. \n",
    "\n",
    "- Open a text file and save it as \".env\"\n",
    "- The text file should contain:  \n",
    "```\n",
    "DATABASE_URL = \"dbname=YOUR_DB_NAME user=YOUR_USERNAME(usually postgres) password=YOUR_PASSWORD\" \n",
    "```\n"
   ]
  },
  {
   "cell_type": "markdown",
   "metadata": {},
   "source": [
    "## Install and import libraries"
   ]
  },
  {
   "cell_type": "code",
   "execution_count": 1,
   "metadata": {
    "scrolled": true
   },
   "outputs": [],
   "source": [
    "!pip install -q pip --upgrade\n",
    "\n",
    "!pip install -q Pillow==7.2.0\n",
    "!pip install -q psycopg2-binary==2.8.6\n",
    "!pip install -q python-dotenv==0.14.0"
   ]
  },
  {
   "cell_type": "code",
   "execution_count": 2,
   "metadata": {},
   "outputs": [],
   "source": [
    "import json\n",
    "\n",
    "from dtpdb import input_data"
   ]
  },
  {
   "cell_type": "markdown",
   "metadata": {},
   "source": [
    "### 3) For a new database\n",
    "Create new tables and input new data:  \n",
    "`create_main_tables()` Creates **Images**, **Annotations** and **Categories** tables in the database \n",
    "\n",
    "add data to tables: \n",
    "- `add_image_data(data)` Adds image data \n",
    "- `add_category_data(data)` Adds category data\n",
    "- `add_annotation_data(data)` Adds annotation data"
   ]
  },
  {
   "cell_type": "code",
   "execution_count": 7,
   "metadata": {},
   "outputs": [],
   "source": [
    "input_data.create_main_tables()"
   ]
  },
  {
   "cell_type": "code",
   "execution_count": 8,
   "metadata": {},
   "outputs": [],
   "source": [
    "with open('raw data\\coco_test_file.json') as json_file:\n",
    "    data = json.load(json_file)\n",
    "    \n",
    "input_data.add_image_data(data)\n",
    "input_data.add_category_data(data)\n",
    "input_data.add_annotation_data(data)"
   ]
  },
  {
   "cell_type": "markdown",
   "metadata": {},
   "source": [
    "### 4) To add data to an existing database\n",
    "1) Create temp tables to store the data temporarily using `create_temp_tables()`  \n",
    "\n",
    "2) Add data from new annotations file:\n",
    "- `add_image_data_temp(data)` Adds image data \n",
    "- `add_category_data_temp(data)` Adds category data\n",
    "- `add_annotation_data_temp(data)` Adds annotation data  \n",
    "\n",
    "3) Get the largest id in the main images table, then update temp images table to increment from that value. The image_id in the annotations table will also update accordingly. \n",
    "`reorder_id()`  \n",
    "\n",
    "4) Update data in main tables. \n",
    "- `update_images()`\n",
    "- `update_categories()`\n",
    "- `update_annotations()`\n",
    "\n",
    "The function also checks the image name in the temp table with the image name in the main table and does not add the temp image if the same name exists in the main table. \n",
    "\n",
    "5) Delete the temp tables \n",
    "`delete_temp_tables()`\n"
   ]
  },
  {
   "cell_type": "code",
   "execution_count": 10,
   "metadata": {},
   "outputs": [],
   "source": [
    "input_data.create_temp_tables()"
   ]
  },
  {
   "cell_type": "code",
   "execution_count": 12,
   "metadata": {},
   "outputs": [],
   "source": [
    "# change the file name/file path to the annotations file we are using as update\n",
    "with open(\"raw data//via_project_30Sep2020_11h56m_coco.json\") as json_file:\n",
    "    data = json.load(json_file)\n",
    "\n",
    "# add data from file to temp tables\n",
    "input_data.add_image_data_temp(data)\n",
    "input_data.add_category_data_temp(data)\n",
    "input_data.add_annotations_data_temp(data)\n",
    "\n",
    "# reorder temp images id to start with max id in main images table\n",
    "input_data.reorder_id()\n",
    "\n",
    "# update data in main table\n",
    "input_data.update_images()\n",
    "input_data.update_categories()\n",
    "input_data.update_annotations()\n",
    "\n",
    "# Delete temp tables\n",
    "input_data.delete_temp_tables()"
   ]
  }
 ],
 "metadata": {
  "kernelspec": {
   "display_name": "Python 3",
   "language": "python",
   "name": "python3"
  },
  "language_info": {
   "codemirror_mode": {
    "name": "ipython",
    "version": 3
   },
   "file_extension": ".py",
   "mimetype": "text/x-python",
   "name": "python",
   "nbconvert_exporter": "python",
   "pygments_lexer": "ipython3",
   "version": "3.7.4"
  }
 },
 "nbformat": 4,
 "nbformat_minor": 2
}
