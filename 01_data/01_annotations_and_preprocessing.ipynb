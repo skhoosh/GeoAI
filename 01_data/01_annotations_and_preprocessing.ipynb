{
 "cells": [
  {
   "cell_type": "markdown",
   "metadata": {},
   "source": [
    "# Annotating the dataset\n",
    "As far as I am aware, Detectron2 only supports **COCO format datasets**, hence we will have to prepare annotations in that format.\n",
    "\n",
    "You can annotate your dataset with the [VGG Annotator online](http://www.robots.ox.ac.uk/~vgg/software/via/via_demo.html). It is intuitive and easy to use. However, do take note of the following precautions when annotating your images:\n",
    "1. Draw only **polygons**, as rectangles are will not produce X-Y coordinates needed during training.\n",
    "\n",
    "2. If your objects are close to the edge of the image, please take precaution to draw your boundaries within the image, otherwise an error will be produced during training.\n",
    "\n",
    "3. Save both coco and json formats of your annotations just in case. When you want to load your annotations into VGG again, using the json format file will allow it to be more accurate, as coco formats do not preserve the names of the objects within your images.\n",
    "\n",
    "Afterwards, we will be making some edits to the coco file. When annotating your images, you would have realised that the categories that can be chosen are limited. In order to edit classes and categories of your images, scroll to the bottom of your coco file, and edit according to the example below:\n",
    "\n",
    "```javascript\n",
    "\"categories\": [\n",
    "    {\"supercategory\": \"type\", \"id\": 1, \"name\": \"escalator\"},\n",
    "    {\"supercategory\": \"type\", \"id\": 2, \"name\": \"lift\"},\n",
    "    {\"supercategory\": \"type\", \"id\": 3, \"name\": \"stairs\"},\n",
    "    {\"supercategory\": \"type\", \"id\": 4, \"name\": \"door\"},\n",
    "    {\"supercategory\": \"type\", \"id\": 5, \"name\": \"entrance\"},\n",
    "    {\"supercategory\": \"type\", \"id\": 6, \"name\": \"car gantry\"},\n",
    "    {\"supercategory\": \"type\", \"id\": 7, \"name\": \"carpark\"},\n",
    "    {\"supercategory\": \"type\", \"id\": 8, \"name\": \"ramp\"},\n",
    "    {\"supercategory\": \"type\", \"id\": 9, \"name\": \"drop-off point\"},\n",
    "    {\"supercategory\": \"type\", \"id\": 10, \"name\": \"bollard\"}\n",
    "  ]\n",
    "```"
   ]
  },
  {
   "cell_type": "code",
   "execution_count": 2,
   "metadata": {},
   "outputs": [],
   "source": [
    "from dtpdb import image_preprocessing\n",
    "from PIL import Image\n",
    "from PIL import ExifTags\n",
    "import os"
   ]
  },
  {
   "cell_type": "markdown",
   "metadata": {},
   "source": [
    "### Correct image size in annotations\n",
    "VGG Annotator sometimes flips image dimensions. To correct for this, use the `image_preprocessing()` function. "
   ]
  },
  {
   "cell_type": "code",
   "execution_count": 13,
   "metadata": {},
   "outputs": [],
   "source": [
    "folder_path = \"C:\\\\Users\\\\steff\\\\Documents\\\\05 GeoAI\\\\03 AI\\\\GeoAI\"\n",
    "coco_file = os.path.join(folder_path,\"01_data\\\\output annotations\\\\val_01.json\")\n",
    "image_path = os.path.join(folder_path, \"data\\\\01 Images\")"
   ]
  },
  {
   "cell_type": "code",
   "execution_count": 14,
   "metadata": {},
   "outputs": [
    {
     "name": "stdout",
     "output_type": "stream",
     "text": [
      "69\n"
     ]
    }
   ],
   "source": [
    "image_preprocessing.correct_image_size(image_path, coco_file)"
   ]
  },
  {
   "cell_type": "code",
   "execution_count": null,
   "metadata": {},
   "outputs": [],
   "source": [
    "f = \"C:\\\\Users\\\\steff\\\\Documents\\\\05 GeoAI\\\\03 AI\\\\GeoAI\\\\data\\\\01 Images\\\\standard.jpg\"\n",
    "im = Image.open(f)"
   ]
  },
  {
   "cell_type": "code",
   "execution_count": null,
   "metadata": {},
   "outputs": [],
   "source": [
    "orientation = im.getexif()"
   ]
  },
  {
   "cell_type": "code",
   "execution_count": null,
   "metadata": {},
   "outputs": [],
   "source": [
    "dict(orientation)"
   ]
  }
 ],
 "metadata": {
  "kernelspec": {
   "display_name": "Python 3",
   "language": "python",
   "name": "python3"
  },
  "language_info": {
   "codemirror_mode": {
    "name": "ipython",
    "version": 3
   },
   "file_extension": ".py",
   "mimetype": "text/x-python",
   "name": "python",
   "nbconvert_exporter": "python",
   "pygments_lexer": "ipython3",
   "version": "3.7.4"
  }
 },
 "nbformat": 4,
 "nbformat_minor": 2
}
