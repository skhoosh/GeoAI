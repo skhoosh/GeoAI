{
 "cells": [
  {
   "cell_type": "markdown",
   "metadata": {},
   "source": [
    "https://medium.com/bilesanmiahmad/how-to-upload-a-file-to-amazon-s3-in-python-68757a1867c6\n",
    "\n",
    "## Upload images to S3 \n",
    "Code from:  \n",
    "https://boto3.amazonaws.com/v1/documentation/api/1.9.185/guide/s3-uploading-files.html\n",
    "\n",
    "https://stackoverflow.com/questions/44978426/boto3-file-upload-does-it-check-if-file-exists"
   ]
  },
  {
   "cell_type": "code",
   "execution_count": 48,
   "metadata": {},
   "outputs": [],
   "source": [
    "import boto3\n",
    "import logging\n",
    "from botocore.exceptions import ClientError\n",
    "\n",
    "BUCKET_NAME = 'geoai-dtp-images'\n",
    "ACCESS_KEY = 'ACCESS KEY'\n",
    "SECRET_KEY = 'SECRET KEY'\n",
    "\n",
    "\n",
    "# Function to upload files to S3 bucket \n",
    "def upload_to_s3(local_file, bucket_name, s3_file=None):\n",
    "    \n",
    "    # If S3 file name was note specified, use local filename \n",
    "    if s3_file is None:\n",
    "        s3_file = local_file\n",
    "    \n",
    "    # Upload the file\n",
    "    s3 = boto3.client('s3', aws_access_key_id=ACCESS_KEY,\n",
    "                   aws_secret_access_key=SECRET_KEY)\n",
    "    try:\n",
    "        s3.upload_file(local_file, bucket_name, s3_file)\n",
    "    except ClientError as e:\n",
    "        logging.error(e)\n",
    "        return False\n",
    "    return True\n",
    "\n",
    "\n",
    "# Function to test existence of an object - to prevent uploading the same file\n",
    "def check_s3_objects(bucket_name, key):\n",
    "    s3 = boto3.client('s3', aws_access_key_id=ACCESS_KEY,\n",
    "                         aws_secret_access_key=SECRET_KEY)\n",
    "    try:\n",
    "        s3.head_object(Bucket=bucket_name, Key=key)\n",
    "    except ClientError as e:\n",
    "        return int(e.response['Error']['Code']) != 404\n",
    "        #return False\n",
    "    return True"
   ]
  },
  {
   "cell_type": "markdown",
   "metadata": {},
   "source": [
    "### Upload image files from selected folder: "
   ]
  },
  {
   "cell_type": "code",
   "execution_count": 25,
   "metadata": {},
   "outputs": [],
   "source": [
    "from os import listdir\n",
    "from os.path import isfile, join, split\n",
    "\n",
    "folder = \"C:\\\\Users\\\\steff\\\\Documents\\\\05 GeoAI\\\\03 AI\\\\GeoAI\\\\data\\\\01 Images\"\n",
    "\n",
    "# Create a list to store files names with paths \n",
    "files = [join(folder, f) for f in listdir(folder) if isfile(join(folder,f))]"
   ]
  },
  {
   "cell_type": "code",
   "execution_count": 59,
   "metadata": {},
   "outputs": [],
   "source": [
    "# iterate through the files list and upload to our S3 Bucket if they dont exist yet\n",
    "for f in files:\n",
    "    # get file name without file path to use as S3 object key \n",
    "    path, file = split(f)\n",
    "    if not check_s3_objects(BUCKET_NAME, f\"images/{file}\"):\n",
    "        #upload to S3\n",
    "        upload_to_s3(f, BUCKET_NAME, s3_file=f\"images/{file}\")"
   ]
  },
  {
   "cell_type": "markdown",
   "metadata": {},
   "source": [
    "### Upload annotations files"
   ]
  },
  {
   "cell_type": "code",
   "execution_count": 62,
   "metadata": {},
   "outputs": [],
   "source": [
    "annotations_folder = \"C:\\\\Users\\\\steff\\\\Documents\\\\05 GeoAI\\\\03 AI\\\\GeoAI\\\\01_data\\\\output annotations\"\n",
    "annotations = [join(annotations_folder, a) \n",
    "               for a in listdir(annotations_folder)\n",
    "              if isfile(join(annotations_folder, a))]\n",
    "\n",
    "for a in annotations:\n",
    "    path, file = split(a)\n",
    "    upload_to_s3(a, BUCKET_NAME, s3_file = f\"annotations/{file}\")"
   ]
  }
 ],
 "metadata": {
  "kernelspec": {
   "display_name": "Python 3",
   "language": "python",
   "name": "python3"
  },
  "language_info": {
   "codemirror_mode": {
    "name": "ipython",
    "version": 3
   },
   "file_extension": ".py",
   "mimetype": "text/x-python",
   "name": "python",
   "nbconvert_exporter": "python",
   "pygments_lexer": "ipython3",
   "version": "3.7.4"
  }
 },
 "nbformat": 4,
 "nbformat_minor": 2
}
