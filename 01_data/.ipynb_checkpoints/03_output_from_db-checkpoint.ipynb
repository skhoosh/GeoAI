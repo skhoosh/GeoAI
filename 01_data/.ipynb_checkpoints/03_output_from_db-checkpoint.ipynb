{
 "cells": [
  {
   "cell_type": "markdown",
   "metadata": {},
   "source": [
    "# Extract data from database into a COCO format file\n",
    "\n",
    "Using the dtpdb library that we created, extract annotation data into a Coco formatted file. \n",
    "\n",
    "### 1) List categories available \n",
    "List categories available using `show_categories()` function. This is to determine our inputs into the next functions. \n",
    "\n",
    "### 2) Export 'main' Coco formatted annotations file\n",
    "Based on the categories list, select which categories we would like and run the `db_to_coco()` function to get a coco formatted file of all the annotations and images of the categories we selected \n",
    "\n",
    "### 3) Export train, test and validation Coco formatted annotations files\n",
    "Again, based on the categories we chose, use the `db_train_test_val_split()` function to get 3 coco formatted files - train file, test file and validation file. The default split is 60% Train, 20% test and 20% validate. These values can be changed as needed. "
   ]
  },
  {
   "cell_type": "code",
   "execution_count": 2,
   "metadata": {},
   "outputs": [],
   "source": [
    "from dtpdb import output_data"
   ]
  },
  {
   "cell_type": "markdown",
   "metadata": {},
   "source": [
    "### Show available categories\n",
    "Lists the categories available from the database and corresponding IDs "
   ]
  },
  {
   "cell_type": "code",
   "execution_count": 2,
   "metadata": {},
   "outputs": [
    {
     "name": "stdout",
     "output_type": "stream",
     "text": [
      "1: escalator\n",
      "2: lift\n",
      "3: stairs\n",
      "4: door\n",
      "5: entrance\n",
      "6: car gantry\n",
      "7: carpark\n",
      "8: ramp\n",
      "9: drop-off point\n",
      "10: bollard\n"
     ]
    }
   ],
   "source": [
    "output_data.show_categories()"
   ]
  },
  {
   "cell_type": "markdown",
   "metadata": {},
   "source": [
    "### Output COCO formatted annotations files\n",
    "1) Use `db_to_coco()` to choose categories via id (see above for corresponding ids) and output all to a main file  \n",
    "2) Use `db_trian_test_val_split()` to choose categories via id and split annotations to train (60%), test (20%) and validation set (20%) as default. \n",
    "\n",
    "Default values:\n",
    "```python\n",
    "db_train_test_val_split(*cat_id, test_ratio=0.2, val_ratio=0.2, filepath=\"\", file_suffix=\"01\")\n",
    "```"
   ]
  },
  {
   "cell_type": "code",
   "execution_count": 3,
   "metadata": {},
   "outputs": [],
   "source": [
    "output_data.db_to_coco(1,2,3,4,5,\n",
    "                       filepath=\"output annotations\", \n",
    "                       filename=\"main_file_all.json\")"
   ]
  },
  {
   "cell_type": "code",
   "execution_count": 5,
   "metadata": {},
   "outputs": [],
   "source": [
    "output_data.db_train_test_val_split(1,2,3,4,5,\n",
    "                                    filepath=\"output annotations\", \n",
    "                                    file_suffix=\"_01\")"
   ]
  }
 ],
 "metadata": {
  "kernelspec": {
   "display_name": "Python 3",
   "language": "python",
   "name": "python3"
  },
  "language_info": {
   "codemirror_mode": {
    "name": "ipython",
    "version": 3
   },
   "file_extension": ".py",
   "mimetype": "text/x-python",
   "name": "python",
   "nbconvert_exporter": "python",
   "pygments_lexer": "ipython3",
   "version": "3.7.4"
  }
 },
 "nbformat": 4,
 "nbformat_minor": 2
}
