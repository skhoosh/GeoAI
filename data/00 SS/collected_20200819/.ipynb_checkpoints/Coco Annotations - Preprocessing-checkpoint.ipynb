{
 "cells": [
  {
   "cell_type": "markdown",
   "metadata": {},
   "source": [
    "### Preprocessing of COCO Annotations File \n",
    "This script uses the Pillow library to check the image size and compare it with the coco file prepared in the VGG Image Annotator(VIA). As the outputs from VIA are sometimes wrong, this script corrects the image sizes noted in the coco annotations file.  \n",
    "\n",
    "Input: Coco annotations file from VIA   \n",
    "Output: coco annotations file with corrected image sizes \n",
    "\n",
    "Additional arguments: folder where images are stored "
   ]
  },
  {
   "cell_type": "code",
   "execution_count": null,
   "metadata": {},
   "outputs": [],
   "source": [
    "# Import required libraries\n",
    "import glob \n",
    "import os \n",
    "\n",
    "import json \n",
    "\n",
    "from PIL import Image\n",
    "from PIL import ExifTags"
   ]
  },
  {
   "cell_type": "code",
   "execution_count": null,
   "metadata": {},
   "outputs": [],
   "source": [
    "# folder and file locations\n",
    "folder_path = \"C:\\\\Users\\\\steff\\\\Documents\\\\05 GeoAI\\\\03 AI\\\\GeoAI\\\\data\\\\collected_20200819\\\\\"\n",
    "coco_file = folder_path+ \"Doorway_21Aug2020_01_coco.json\"\n",
    "\n",
    "# Load original coco annotations file using json library \n",
    "with open(coco_file) as file: \n",
    "    data = json.load(file)     "
   ]
  },
  {
   "cell_type": "code",
   "execution_count": null,
   "metadata": {},
   "outputs": [],
   "source": [
    "# Function for extracting size of image from image file \n",
    "def actual_size(image):\n",
    "    orientation = im._getexif().get(274)\n",
    "    method = {\n",
    "        2: Image.FLIP_LEFT_RIGHT,\n",
    "        3: Image.ROTATE_180,\n",
    "        4: Image.FLIP_TOP_BOTTOM,\n",
    "        5: Image.TRANSPOSE,\n",
    "        6: Image.ROTATE_270,\n",
    "        7: Image.TRANSVERSE,\n",
    "        8: Image.ROTATE_90\n",
    "    }.get(orientation)\n",
    "    \n",
    "    if method is not None:\n",
    "        image = image.transpose(method = method)\n",
    "    width, height = image.size\n",
    "    return(width, height)   "
   ]
  },
  {
   "cell_type": "code",
   "execution_count": null,
   "metadata": {
    "scrolled": false
   },
   "outputs": [],
   "source": [
    "# Comparison and correction of actual image size vs size in coco annotations file \n",
    "for i in range(len(data[\"images\"])):\n",
    "    file_name = data[\"images\"][i][\"file_name\"]\n",
    "    coco_width = data[\"images\"][i][\"width\"]\n",
    "    coco_height = data[\"images\"][i][\"height\"]\n",
    "    \n",
    "    im = Image.open(folder_path+file_name)\n",
    "    width, height = actual_size(im)\n",
    "    \n",
    "    if coco_width != width:\n",
    "        data[\"images\"][i][\"width\"] = width\n",
    "        print(f\"Changed width for {file_name}\")\n",
    "        \n",
    "    if coco_height != height: \n",
    "        data[\"images\"][i][\"height\"] = height \n",
    "        print(f\"Changed height for {file_name}\")\n",
    "        \n",
    "with open(f'{folder_path}updated_coco_file.json', 'w') as outfile:\n",
    "    json.dump(data, outfile)"
   ]
  }
 ],
 "metadata": {
  "kernelspec": {
   "display_name": "Python 3",
   "language": "python",
   "name": "python3"
  },
  "language_info": {
   "codemirror_mode": {
    "name": "ipython",
    "version": 3
   },
   "file_extension": ".py",
   "mimetype": "text/x-python",
   "name": "python",
   "nbconvert_exporter": "python",
   "pygments_lexer": "ipython3",
   "version": "3.7.4"
  }
 },
 "nbformat": 4,
 "nbformat_minor": 2
}
