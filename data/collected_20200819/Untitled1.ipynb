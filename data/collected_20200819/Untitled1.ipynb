{
 "cells": [
  {
   "cell_type": "code",
   "execution_count": 33,
   "metadata": {},
   "outputs": [],
   "source": [
    "import glob \n",
    "import os \n",
    "\n",
    "import json \n",
    "\n",
    "from PIL import Image\n",
    "from PIL import ExifTags"
   ]
  },
  {
   "cell_type": "markdown",
   "metadata": {},
   "source": [
    "### Read COCO file and extract image width and size"
   ]
  },
  {
   "cell_type": "code",
   "execution_count": 34,
   "metadata": {},
   "outputs": [],
   "source": [
    "folder_path = \"C:\\\\Users\\\\steff\\\\Documents\\\\05 GeoAI\\\\03 AI\\\\GeoAI\\\\data\\\\collected_20200819\\\\\"\n",
    "coco_file = folder_path+ \"Doorway_21Aug2020_01_coco.json\"\n",
    "\n",
    "with open(coco_file) as file: \n",
    "    data = json.load(file)     "
   ]
  },
  {
   "cell_type": "code",
   "execution_count": 35,
   "metadata": {},
   "outputs": [],
   "source": [
    "def actual_size(image):\n",
    "    orientation = im._getexif().get(274)\n",
    "    method = {\n",
    "        2: Image.FLIP_LEFT_RIGHT,\n",
    "        3: Image.ROTATE_180,\n",
    "        4: Image.FLIP_TOP_BOTTOM,\n",
    "        5: Image.TRANSPOSE,\n",
    "        6: Image.ROTATE_270,\n",
    "        7: Image.TRANSVERSE,\n",
    "        8: Image.ROTATE_90\n",
    "    }.get(orientation)\n",
    "    \n",
    "    if method is not None:\n",
    "        image = image.transpose(method = method)\n",
    "    width, height = image.size\n",
    "    return(width, height)   "
   ]
  },
  {
   "cell_type": "code",
   "execution_count": 36,
   "metadata": {},
   "outputs": [
    {
     "name": "stdout",
     "output_type": "stream",
     "text": [
      "Changed width for 20200819_114426.jpg\n",
      "Changed height for 20200819_114426.jpg\n",
      "Changed height for DW_20200819_110729.jpg\n",
      "Changed height for 20200819_112143.jpg\n",
      "Changed width for 20200819_113012.jpg\n",
      "Changed height for 20200819_113012.jpg\n"
     ]
    },
    {
     "ename": "OSError",
     "evalue": "[Errno 22] Invalid argument: 'new_C:\\\\Users\\\\steff\\\\Documents\\\\05 GeoAI\\\\03 AI\\\\GeoAI\\\\data\\\\collected_20200819\\\\Doorway_21Aug2020_01_coco.json'",
     "output_type": "error",
     "traceback": [
      "\u001b[1;31m---------------------------------------------------------------------------\u001b[0m",
      "\u001b[1;31mOSError\u001b[0m                                   Traceback (most recent call last)",
      "\u001b[1;32m<ipython-input-36-91197ad05e6a>\u001b[0m in \u001b[0;36m<module>\u001b[1;34m\u001b[0m\n\u001b[0;32m     15\u001b[0m         \u001b[0mprint\u001b[0m\u001b[1;33m(\u001b[0m\u001b[1;34mf\"Changed height for {file_name}\"\u001b[0m\u001b[1;33m)\u001b[0m\u001b[1;33m\u001b[0m\u001b[1;33m\u001b[0m\u001b[0m\n\u001b[0;32m     16\u001b[0m \u001b[1;33m\u001b[0m\u001b[0m\n\u001b[1;32m---> 17\u001b[1;33m \u001b[1;32mwith\u001b[0m \u001b[0mopen\u001b[0m\u001b[1;33m(\u001b[0m\u001b[1;34mf'new_{coco_file}'\u001b[0m\u001b[1;33m,\u001b[0m \u001b[1;34m'w'\u001b[0m\u001b[1;33m)\u001b[0m \u001b[1;32mas\u001b[0m \u001b[0moutfile\u001b[0m\u001b[1;33m:\u001b[0m\u001b[1;33m\u001b[0m\u001b[1;33m\u001b[0m\u001b[0m\n\u001b[0m\u001b[0;32m     18\u001b[0m     \u001b[0mjson\u001b[0m\u001b[1;33m.\u001b[0m\u001b[0mdump\u001b[0m\u001b[1;33m(\u001b[0m\u001b[0mdata\u001b[0m\u001b[1;33m,\u001b[0m \u001b[0moutfile\u001b[0m\u001b[1;33m)\u001b[0m\u001b[1;33m\u001b[0m\u001b[1;33m\u001b[0m\u001b[0m\n",
      "\u001b[1;31mOSError\u001b[0m: [Errno 22] Invalid argument: 'new_C:\\\\Users\\\\steff\\\\Documents\\\\05 GeoAI\\\\03 AI\\\\GeoAI\\\\data\\\\collected_20200819\\\\Doorway_21Aug2020_01_coco.json'"
     ]
    }
   ],
   "source": [
    "for i in range(len(data[\"images\"])):\n",
    "    file_name = data[\"images\"][i][\"file_name\"]\n",
    "    coco_width = data[\"images\"][i][\"width\"]\n",
    "    coco_height = data[\"images\"][i][\"height\"]\n",
    "    \n",
    "    im = Image.open(folder_path+file_name)\n",
    "    width, height = actual_size(im)\n",
    "    \n",
    "    if coco_width != width:\n",
    "        data[\"images\"][i][\"width\"] = width\n",
    "        print(f\"Changed width for {file_name}\")\n",
    "        \n",
    "    if coco_height != height: \n",
    "        data[\"images\"][i][\"height\"] = height \n",
    "        print(f\"Changed height for {file_name}\")\n",
    "        \n"
   ]
  },
  {
   "cell_type": "code",
   "execution_count": 37,
   "metadata": {},
   "outputs": [],
   "source": [
    "with open(f'{folder_path}updated_coco_file.json', 'w') as outfile:\n",
    "    json.dump(data, outfile)"
   ]
  },
  {
   "cell_type": "code",
   "execution_count": 7,
   "metadata": {
    "scrolled": true
   },
   "outputs": [
    {
     "data": {
      "text/plain": [
       "251"
      ]
     },
     "execution_count": 7,
     "metadata": {},
     "output_type": "execute_result"
    }
   ],
   "source": [
    "for i in range(len(data[\"images\"])):\n",
    "    file_name = data[\"images\"][i][\"file_name\"]\n",
    "    im = Image.open(folder_path + file_name)"
   ]
  },
  {
   "cell_type": "code",
   "execution_count": 13,
   "metadata": {},
   "outputs": [
    {
     "data": {
      "text/plain": [
       "list"
      ]
     },
     "execution_count": 13,
     "metadata": {},
     "output_type": "execute_result"
    }
   ],
   "source": [
    "type(data[\"images\"])"
   ]
  },
  {
   "cell_type": "code",
   "execution_count": 24,
   "metadata": {},
   "outputs": [],
   "source": [
    "data[\"images\"][0][\"id\"] = 1"
   ]
  }
 ],
 "metadata": {
  "kernelspec": {
   "display_name": "Python 3",
   "language": "python",
   "name": "python3"
  },
  "language_info": {
   "codemirror_mode": {
    "name": "ipython",
    "version": 3
   },
   "file_extension": ".py",
   "mimetype": "text/x-python",
   "name": "python",
   "nbconvert_exporter": "python",
   "pygments_lexer": "ipython3",
   "version": "3.7.4"
  }
 },
 "nbformat": 4,
 "nbformat_minor": 2
}
